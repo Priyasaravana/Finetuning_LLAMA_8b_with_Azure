{
  "cells": [
    {
      "cell_type": "code",
      "source": [
        "print('hello world')"
      ],
      "outputs": [
        {
          "output_type": "stream",
          "name": "stdout",
          "text": "hello world\n"
        }
      ],
      "execution_count": 2,
      "metadata": {
        "gather": {
          "logged": 1732813331436
        }
      }
    },
    {
      "cell_type": "code",
      "source": [
        "!nvidia-smi"
      ],
      "outputs": [
        {
          "output_type": "stream",
          "name": "stdout",
          "text": "Thu Dec  5 14:29:53 2024       \r\n+---------------------------------------------------------------------------------------+\r\n| NVIDIA-SMI 535.216.01             Driver Version: 535.216.01   CUDA Version: 12.2     |\r\n|-----------------------------------------+----------------------+----------------------+\r\n| GPU  Name                 Persistence-M | Bus-Id        Disp.A | Volatile Uncorr. ECC |\r\n| Fan  Temp   Perf          Pwr:Usage/Cap |         Memory-Usage | GPU-Util  Compute M. |\r\n|                                         |                      |               MIG M. |\r\n|=========================================+======================+======================|\r\n|   0  NVIDIA A100 80GB PCIe          On  | 00000001:00:00.0 Off |                    0 |\r\n| N/A   35C    P0              73W / 300W |   8294MiB / 81920MiB |      0%      Default |\r\n|                                         |                      |             Disabled |\r\n+-----------------------------------------+----------------------+----------------------+\r\n|   1  NVIDIA A100 80GB PCIe          On  | 00000002:00:00.0 Off |                    0 |\r\n| N/A   35C    P0              75W / 300W |    550MiB / 81920MiB |      0%      Default |\r\n|                                         |                      |             Disabled |\r\n+-----------------------------------------+----------------------+----------------------+\r\n|   2  NVIDIA A100 80GB PCIe          On  | 00000003:00:00.0 Off |                    0 |\r\n| N/A   38C    P0              77W / 300W |    554MiB / 81920MiB |      0%      Default |\r\n|                                         |                      |             Disabled |\r\n+-----------------------------------------+----------------------+----------------------+\r\n|   3  NVIDIA A100 80GB PCIe          On  | 00000004:00:00.0 Off |                    0 |\r\n| N/A   38C    P0              77W / 300W |    650MiB / 81920MiB |      0%      Default |\r\n|                                         |                      |             Disabled |\r\n+-----------------------------------------+----------------------+----------------------+\r\n                                                                                         \r\n+---------------------------------------------------------------------------------------+\r\n| Processes:                                                                            |\r\n|  GPU   GI   CI        PID   Type   Process name                            GPU Memory |\r\n|        ID   ID                                                             Usage      |\r\n|=======================================================================================|\r\n|    0   N/A  N/A      5344      C   ...envs/azureml_py310_sdkv2/bin/python     8286MiB |\r\n|    1   N/A  N/A      5344      C   ...envs/azureml_py310_sdkv2/bin/python      542MiB |\r\n|    2   N/A  N/A      5344      C   ...envs/azureml_py310_sdkv2/bin/python      546MiB |\r\n|    3   N/A  N/A      5344      C   ...envs/azureml_py310_sdkv2/bin/python      642MiB |\r\n+---------------------------------------------------------------------------------------+\r\n"
        }
      ],
      "execution_count": 1,
      "metadata": {
        "jupyter": {
          "source_hidden": false,
          "outputs_hidden": false
        },
        "nteract": {
          "transient": {
            "deleting": false
          }
        }
      }
    }
  ],
  "metadata": {
    "kernelspec": {
      "name": "python310-sdkv2",
      "language": "python",
      "display_name": "Python 3.10 - SDK v2"
    },
    "language_info": {
      "name": "python",
      "version": "3.10.14",
      "mimetype": "text/x-python",
      "codemirror_mode": {
        "name": "ipython",
        "version": 3
      },
      "pygments_lexer": "ipython3",
      "nbconvert_exporter": "python",
      "file_extension": ".py"
    },
    "microsoft": {
      "ms_spell_check": {
        "ms_spell_check_language": "en"
      },
      "host": {
        "AzureML": {
          "notebookHasBeenCompleted": true
        }
      }
    },
    "kernel_info": {
      "name": "python310-sdkv2"
    },
    "nteract": {
      "version": "nteract-front-end@1.0.0"
    }
  },
  "nbformat": 4,
  "nbformat_minor": 2
}